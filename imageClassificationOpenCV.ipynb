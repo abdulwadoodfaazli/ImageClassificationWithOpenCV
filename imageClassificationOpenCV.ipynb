{
  "cells": [
    {
      "attachments": {},
      "cell_type": "markdown",
      "id": "3f21c64a",
      "metadata": {
        "id": "3f21c64a"
      },
      "source": [
        "# Image Classification"
      ]
    },
    {
      "cell_type": "markdown",
      "id": "62a018f7",
      "metadata": {
        "id": "62a018f7"
      },
      "source": [
        "## Section 0. Download dataset."
      ]
    },
    {
      "cell_type": "code",
      "execution_count": 1,
      "id": "f26b1870",
      "metadata": {
        "id": "f26b1870"
      },
      "outputs": [],
      "source": [
        "import cv2\n",
        "import os\n",
        "import random\n",
        "import numpy as np\n",
        "from pathlib import Path\n",
        "import urllib.request\n",
        "import zipfile\n",
        "import urllib\n",
        "import hashlib\n",
        "from tqdm import tqdm\n",
        "import matplotlib.pyplot as plt\n",
        "from skimage.feature import hog\n",
        "from skimage.transform import resize\n",
        "from sklearn.metrics import accuracy_score, precision_score, recall_score, f1_score\n",
        "from sklearn.decomposition import PCA\n",
        "from sklearn.neural_network import MLPClassifier\n",
        "from sklearn.model_selection import train_test_split, cross_validate\n",
        "from sklearn.ensemble import VotingClassifier, BaggingClassifier\n",
        "from sklearn.preprocessing import StandardScaler\n",
        "from sklearn.pipeline import make_pipeline\n",
        "from google.colab.patches import cv2_imshow\n",
        "\n",
        "random.seed(0)\n",
        "np.random.seed(0)"
      ]
    },
    {
      "cell_type": "code",
      "execution_count": 2,
      "id": "75d0d54a",
      "metadata": {
        "colab": {
          "base_uri": "https://localhost:8080/"
        },
        "id": "75d0d54a",
        "outputId": "388eb374-0e7e-4447-9920-7c3f63caf33d"
      },
      "outputs": [
        {
          "name": "stdout",
          "output_type": "stream",
          "text": [
            "data/data.zip exists and MD5 matches. Skip download.\n",
            "Extracting...\n",
            "Extracting done.\n"
          ]
        },
        {
          "name": "stderr",
          "output_type": "stream",
          "text": [
            "Read train: 100%|██████████| 50000/50000 [00:04<00:00, 11642.34it/s]\n",
            "Read test: 100%|██████████| 10000/10000 [00:00<00:00, 12354.07it/s]\n"
          ]
        },
        {
          "name": "stdout",
          "output_type": "stream",
          "text": [
            "xs_train:  (50000, 32, 32, 3)\n",
            "ys_train:  (50000,)\n",
            "xs_test:  (10000, 32, 32, 3)\n"
          ]
        }
      ],
      "source": [
        "def download_data(data_dir):\n",
        "    \"\"\"    \n",
        "    Args:\n",
        "        data_dir (Path): Path to the download and extract data directory.\n",
        "\n",
        "    Returns:\n",
        "        xs_train: (num_train, 32, 32, 3) uint8\n",
        "        ys_train: (num_train, ) uint8\n",
        "        xs_test: (num_test, 32, 32, 3) uint8\n",
        "    \"\"\"\n",
        "\n",
        "    class DownloadProgressBar(tqdm):\n",
        "\n",
        "        def update_to(self, b=1, bsize=1, tsize=None):\n",
        "            if tsize is not None:\n",
        "                self.total = tsize\n",
        "            self.update(b * bsize - self.n)\n",
        "\n",
        "    def compute_md5(file_path):\n",
        "        file_path = Path(file_path)\n",
        "        if not file_path.is_file():\n",
        "            raise ValueError(f\"File {file_path} does not exist.\")\n",
        "\n",
        "        with open(file_path, \"rb\") as f:\n",
        "            file_hash = hashlib.md5()\n",
        "            chunk = f.read(8192)\n",
        "            while chunk:\n",
        "                file_hash.update(chunk)\n",
        "                chunk = f.read(8192)\n",
        "\n",
        "        return str(file_hash.hexdigest())\n",
        "\n",
        "    def maybe_download_url(url, output_path, md5sum=None):\n",
        "        output_path = Path(output_path)\n",
        "\n",
        "        if output_path.is_file() and md5sum is not None:\n",
        "            if compute_md5(output_path) == md5sum:\n",
        "                print(f\"{output_path} exists and MD5 matches. Skip download.\")\n",
        "                return\n",
        "\n",
        "        with DownloadProgressBar(unit='B',\n",
        "                                 unit_scale=True,\n",
        "                                 miniters=1,\n",
        "                                 desc=url.split('/')[-1]) as t:\n",
        "            urllib.request.urlretrieve(url,\n",
        "                                       filename=output_path,\n",
        "                                       reporthook=t.update_to)\n",
        "\n",
        "    # Paths\n",
        "    data_dir = Path(data_dir)\n",
        "    data_dir.mkdir(parents=True, exist_ok=True)\n",
        "    zip_path = data_dir / \"data.zip\"\n",
        "    url = \"https://github.com/comp3314/hw3-data/releases/download/hw3/data.zip\"\n",
        "    md5sum = \"bd4f13ea7b8d9b79c1320fe559698dbd\"\n",
        "\n",
        "    # Download URL\n",
        "    maybe_download_url(url, zip_path, md5sum=md5sum)\n",
        "\n",
        "    # Extract zip\n",
        "    print(\"Extracting...\")\n",
        "    with zipfile.ZipFile(zip_path, 'r') as f:\n",
        "        f.extractall(data_dir)\n",
        "    print(\"Extracting done.\")\n",
        "\n",
        "\n",
        "def load_data(data_dir):\n",
        "    data_dir = Path(data_dir)\n",
        "    if not data_dir.is_dir():\n",
        "        raise ValueError(f\"{data_dir} is not a directory.\")\n",
        "\n",
        "    # Read train\n",
        "    train_dir = data_dir / \"train\"\n",
        "    train_label_path = train_dir / \"labels.txt\"\n",
        "    xs_train = []\n",
        "    ys_train = []\n",
        "    with open(train_label_path, \"r\") as f:\n",
        "        lines = f.readlines()\n",
        "        lines = [line.strip() for line in lines]\n",
        "    for line in tqdm(lines, desc=\"Read train\"):\n",
        "        im_path, im_label = line.split(\" \")\n",
        "        im_path = train_dir / im_path\n",
        "        im_bgr = cv2.imread(str(im_path))\n",
        "        im_rgb = cv2.cvtColor(im_bgr, cv2.COLOR_BGR2RGB)\n",
        "        assert im_rgb.shape == (32, 32, 3)\n",
        "        assert im_rgb.dtype == np.uint8\n",
        "        xs_train.append(im_rgb)\n",
        "        ys_train.append(int(im_label))\n",
        "\n",
        "    # Read test\n",
        "    test_dir = data_dir / \"test\"\n",
        "    test_label_path = test_dir / \"labels.txt\"\n",
        "    xs_test = []\n",
        "    with open(test_label_path, \"r\") as f:\n",
        "        lines = f.readlines()\n",
        "        lines = [line.strip() for line in lines]\n",
        "    for line in tqdm(lines, desc=\"Read test\"):\n",
        "        im_path = line\n",
        "        im_path = test_dir / im_path\n",
        "        im_bgr = cv2.imread(str(im_path))\n",
        "        im_rgb = cv2.cvtColor(im_bgr, cv2.COLOR_BGR2RGB)\n",
        "        assert im_rgb.shape == (32, 32, 3)\n",
        "        assert im_rgb.dtype == np.uint8\n",
        "        xs_test.append(im_rgb)\n",
        "\n",
        "    xs_train = np.array(xs_train, dtype=np.uint8)\n",
        "    ys_train = np.array(ys_train)\n",
        "    xs_test = np.array(xs_test, dtype=np.uint8)\n",
        "\n",
        "    return xs_train, ys_train, xs_test\n",
        "\n",
        "data_dir=\"data\"\n",
        "download_data(data_dir=data_dir)\n",
        "xs_train, ys_train, xs_test = load_data(data_dir=data_dir)\n",
        "\n",
        "xs_train = np.array(xs_train)\n",
        "ys_train = np.array(ys_train)\n",
        "xs_test = np.array(xs_test)\n",
        "\n",
        "print('xs_train: ', xs_train.shape)\n",
        "print('ys_train: ', ys_train.shape)\n",
        "print('xs_test: ', xs_test.shape)"
      ]
    },
    {
      "attachments": {},
      "cell_type": "markdown",
      "id": "7ddc5068",
      "metadata": {
        "id": "7ddc5068"
      },
      "source": [
        "## Section 1. Dataset preparation.\n",
        "\n",
        "Before dealing with a new dataset, it is important to know the basic information of the data. "
      ]
    },
    {
      "attachments": {},
      "cell_type": "markdown",
      "id": "dfc37567",
      "metadata": {
        "id": "dfc37567"
      },
      "source": [
        "### Section 1.1. How many categories does this dataset cover?"
      ]
    },
    {
      "cell_type": "code",
      "execution_count": 3,
      "id": "f6e88256",
      "metadata": {
        "colab": {
          "base_uri": "https://localhost:8080/"
        },
        "id": "f6e88256",
        "outputId": "7cfe1b5e-463b-408b-ff6b-451a2279c19a"
      },
      "outputs": [
        {
          "name": "stdout",
          "output_type": "stream",
          "text": [
            "This dataset has 10 different categories\n",
            "They are: [0 1 2 3 4 5 6 7 8 9]\n"
          ]
        }
      ],
      "source": [
        "categories = np.unique(ys_train)\n",
        "print(f\"This dataset has {len(categories)} different categories\")\n",
        "print(f\"They are: {categories}\")"
      ]
    },
    {
      "attachments": {},
      "cell_type": "markdown",
      "id": "3b81de90",
      "metadata": {
        "id": "3b81de90"
      },
      "source": [
        "### Section 1.2. How many train/test samples does each category contain?"
      ]
    },
    {
      "cell_type": "code",
      "execution_count": 4,
      "id": "63592b5c",
      "metadata": {
        "colab": {
          "base_uri": "https://localhost:8080/"
        },
        "id": "63592b5c",
        "outputId": "d046b640-9db4-444a-e8da-c7c1a07d154b"
      },
      "outputs": [
        {
          "name": "stdout",
          "output_type": "stream",
          "text": [
            "Category 0 contains 5000 train samples\n",
            "Category 1 contains 5000 train samples\n",
            "Category 2 contains 5000 train samples\n",
            "Category 3 contains 5000 train samples\n",
            "Category 4 contains 5000 train samples\n",
            "Category 5 contains 5000 train samples\n",
            "Category 6 contains 5000 train samples\n",
            "Category 7 contains 5000 train samples\n",
            "Category 8 contains 5000 train samples\n",
            "Category 9 contains 5000 train samples\n",
            "\n",
            "From this, we can infer that each category has (10,000 / 10) = 1000 samples in the test set\n"
          ]
        }
      ],
      "source": [
        "counts = np.bincount(ys_train)\n",
        "\n",
        "for category in categories:\n",
        "  num_of_samples = counts[category ]\n",
        "  print(f\"Category {category} contains {num_of_samples} train samples\")\n",
        "\n",
        "print(\"\\nFrom this, we can infer that each category has (10,000 / 10) = 1000 samples in the test set\")"
      ]
    },
    {
      "attachments": {},
      "cell_type": "markdown",
      "id": "b7df3d7a",
      "metadata": {
        "id": "b7df3d7a"
      },
      "source": [
        "### Section 1.3. Visualize one sample for each category."
      ]
    },
    {
      "cell_type": "code",
      "execution_count": 5,
      "id": "3e536c37",
      "metadata": {
        "colab": {
          "base_uri": "https://localhost:8080/",
          "height": 338
        },
        "id": "3e536c37",
        "outputId": "aab7e183-c8ed-4247-e725-32b34637d419"
      },
      "outputs": [
        {
          "data": {
            "image/png": "[encoded data removed]",
            "text/plain": [
              "<Figure size 720x432 with 10 Axes>"
            ]
          },
          "metadata": {
            "needs_background": "light"
          },
          "output_type": "display_data"
        }
      ],
      "source": [
        "categories_list = list(categories)\n",
        "\n",
        "fig = plt.figure(figsize=(10, 6))\n",
        "\n",
        "for category in categories_list:\n",
        "  for i in range(len(xs_train)):\n",
        "    if ys_train[i] == category:\n",
        "      ax = fig.add_subplot(2, 5, category+1)\n",
        "      image = xs_train[i].reshape((32, 32, 3))\n",
        "      ax.imshow(image)\n",
        "      ax.set_title(f\"Category: {category}\")\n",
        "      break\n",
        "\n",
        "plt.show()"
      ]
    },
    {
      "attachments": {},
      "cell_type": "markdown",
      "id": "0c937299",
      "metadata": {
        "id": "0c937299"
      },
      "source": [
        "## Section 2.  Controlled experiments."
      ]
    },
    {
      "cell_type": "markdown",
      "id": "ZCCkmojxsl7s",
      "metadata": {
        "id": "ZCCkmojxsl7s"
      },
      "source": [
        "### Helper Functions"
      ]
    },
    {
      "cell_type": "code",
      "execution_count": 6,
      "id": "pjwfOoBFqkYa",
      "metadata": {
        "id": "pjwfOoBFqkYa"
      },
      "outputs": [],
      "source": [
        "# Displaying a random image\n",
        "\n",
        "def display_image(initials, transformed):\n",
        "  print(\"Initial Image\")\n",
        "  cv2_imshow(initials[50])\n",
        "\n",
        "  print(\"\\nTransformed Image\")\n",
        "  cv2_imshow(transformed[50])"
      ]
    },
    {
      "cell_type": "code",
      "execution_count": 7,
      "id": "qF-C3UNoJj3-",
      "metadata": {
        "id": "qF-C3UNoJj3-"
      },
      "outputs": [],
      "source": [
        "# Adjusting the dimensions of our train set and splitting it into training and validation sets\n",
        "\n",
        "def reshape_and_split_data(x, y):\n",
        "  # Reshaping\n",
        "  dim1 = x.shape[0]\n",
        "  dim2 = 1\n",
        "  for i in range(1, len(x.shape)):\n",
        "    dim2 *= x.shape[i]\n",
        "\n",
        "  reshaped_x = x.reshape((dim1, dim2))\n",
        "  print(\"x reshaped into: \", reshaped_x.shape)\n",
        "\n",
        "  # Splitting\n",
        "  x_train, x_val, y_train, y_val = train_test_split(reshaped_x, y, test_size=0.33, random_state=42)\n",
        "\n",
        "  print(\"\\nx_train shape: \", x_train.shape)\n",
        "  print(\"y_train shape: \", y_train.shape)\n",
        "  print(\"\\nx_val shape: \", x_val.shape)\n",
        "  print(\"y_val shape: \", y_val.shape)\n",
        "\n",
        "  return x_train, x_val, y_train, y_val"
      ]
    },
    {
      "attachments": {},
      "cell_type": "markdown",
      "id": "31648ba9",
      "metadata": {
        "id": "31648ba9"
      },
      "source": [
        "### Section 2.1. Controlled experiment I.\n",
        "\n",
        "#### Feature Extraction and Engineering"
      ]
    },
    {
      "attachments": {},
      "cell_type": "markdown",
      "id": "0a_cVEJRsbhD",
      "metadata": {
        "id": "0a_cVEJRsbhD"
      },
      "source": [
        "##### Making images grayscale to reduce computational complexity"
      ]
    },
    {
      "cell_type": "code",
      "execution_count": 8,
      "id": "26d587f8",
      "metadata": {
        "colab": {
          "base_uri": "https://localhost:8080/",
          "height": 168
        },
        "id": "26d587f8",
        "outputId": "2bb5565d-3689-4ded-c246-e7161dacf7c7"
      },
      "outputs": [
        {
          "name": "stdout",
          "output_type": "stream",
          "text": [
            "Initial Image\n"
          ]
        },
        {
          "data": {
            "image/png": "[encoded data removed]",
            "text/plain": [
              "<PIL.Image.Image image mode=RGB size=32x32 at 0x7F995BE5CEE0>"
            ]
          },
          "metadata": {},
          "output_type": "display_data"
        },
        {
          "name": "stdout",
          "output_type": "stream",
          "text": [
            "\n",
            "Transformed Image\n"
          ]
        },
        {
          "data": {
            "image/png": "[encoded data removed]",
            "text/plain": [
              "<PIL.Image.Image image mode=L size=32x32 at 0x7F995BE5CEE0>"
            ]
          },
          "metadata": {},
          "output_type": "display_data"
        },
        {
          "name": "stdout",
          "output_type": "stream",
          "text": [
            "\n",
            "Shape of grayscale train data is:  (50000, 32, 32)\n"
          ]
        }
      ],
      "source": [
        "# making images grayscale\n",
        "\n",
        "def make_gray(x):\n",
        "  gray_images = []\n",
        "\n",
        "  for img in x:\n",
        "    gray_img = cv2.cvtColor(img, cv2.COLOR_BGR2GRAY)\n",
        "    gray_images.append(gray_img)\n",
        "\n",
        "  gray_x = np.array(gray_images)\n",
        "\n",
        "  return gray_x\n",
        "\n",
        "gray_xs_train = make_gray(xs_train)\n",
        "\n",
        "# printing a sample image for displaying grayscale\n",
        "display_image(xs_train, gray_xs_train)\n",
        "\n",
        "print(\"\\nShape of grayscale train data is: \", gray_xs_train.shape)"
      ]
    },
    {
      "attachments": {},
      "cell_type": "markdown",
      "id": "fx3HfjmNsfVr",
      "metadata": {
        "id": "fx3HfjmNsfVr"
      },
      "source": [
        "##### Blurring images to remove noise"
      ]
    },
    {
      "cell_type": "code",
      "execution_count": 9,
      "id": "KWJsq8fIizOa",
      "metadata": {
        "colab": {
          "base_uri": "https://localhost:8080/",
          "height": 168
        },
        "id": "KWJsq8fIizOa",
        "outputId": "de610666-8de9-4e70-a36b-767ac2df564e"
      },
      "outputs": [
        {
          "name": "stdout",
          "output_type": "stream",
          "text": [
            "Initial Image\n"
          ]
        },
        {
          "data": {
            "image/png": "[encoded data removed]",
            "text/plain": [
              "<PIL.Image.Image image mode=RGB size=32x32 at 0x7F995BE844C0>"
            ]
          },
          "metadata": {},
          "output_type": "display_data"
        },
        {
          "name": "stdout",
          "output_type": "stream",
          "text": [
            "\n",
            "Transformed Image\n"
          ]
        },
        {
          "data": {
            "image/png": "[encoded data removed]",
            "text/plain": [
              "<PIL.Image.Image image mode=L size=32x32 at 0x7F995BE844C0>"
            ]
          },
          "metadata": {},
          "output_type": "display_data"
        },
        {
          "name": "stdout",
          "output_type": "stream",
          "text": [
            "\n",
            "Shape of blurred train data is:  (50000, 32, 32)\n"
          ]
        }
      ],
      "source": [
        "# Blurring images\n",
        "\n",
        "def make_blur(x):\n",
        "  blurred_images = []\n",
        "\n",
        "  for img in x:\n",
        "    blur = cv2.GaussianBlur(img, (5, 5), cv2.BORDER_DEFAULT)\n",
        "    blurred_images.append(blur)\n",
        "\n",
        "  blur_x = np.array(blurred_images)\n",
        "\n",
        "  return blur_x\n",
        "\n",
        "blur_xs_train = make_blur(gray_xs_train)\n",
        "\n",
        "# printing a sample image for displaying blurred\n",
        "display_image(xs_train, blur_xs_train)\n",
        "\n",
        "print(\"\\nShape of blurred train data is: \", blur_xs_train.shape)"
      ]
    },
    {
      "attachments": {},
      "cell_type": "markdown",
      "id": "SxE1YngmsiGL",
      "metadata": {
        "id": "SxE1YngmsiGL"
      },
      "source": [
        "##### Edge detection using the canny algorithm to identify objects"
      ]
    },
    {
      "cell_type": "code",
      "execution_count": 10,
      "id": "5DWxZLP_rh7Q",
      "metadata": {
        "colab": {
          "base_uri": "https://localhost:8080/",
          "height": 168
        },
        "id": "5DWxZLP_rh7Q",
        "outputId": "2e918538-630b-4827-fd95-203f618c00d3"
      },
      "outputs": [
        {
          "name": "stdout",
          "output_type": "stream",
          "text": [
            "Initial Image\n"
          ]
        },
        {
          "data": {
            "image/png": "[encoded data removed]",
            "text/plain": [
              "<PIL.Image.Image image mode=RGB size=32x32 at 0x7F997F0F64F0>"
            ]
          },
          "metadata": {},
          "output_type": "display_data"
        },
        {
          "name": "stdout",
          "output_type": "stream",
          "text": [
            "\n",
            "Transformed Image\n"
          ]
        },
        {
          "data": {
            "image/png": "[encoded data removed]",
            "text/plain": [
              "<PIL.Image.Image image mode=L size=32x32 at 0x7F997F0F64F0>"
            ]
          },
          "metadata": {},
          "output_type": "display_data"
        },
        {
          "name": "stdout",
          "output_type": "stream",
          "text": [
            "\n",
            "Shape of canny train data is:  (50000, 32, 32)\n"
          ]
        }
      ],
      "source": [
        "# Canny edge detection\n",
        "\n",
        "def make_canny(x):\n",
        "  canny_images = []\n",
        "\n",
        "  for img in x:\n",
        "    canny = cv2.Canny(img, 100, 200)\n",
        "    canny_images.append(canny)\n",
        "\n",
        "  canny_x = np.array(canny_images)\n",
        "\n",
        "  return canny_x\n",
        "\n",
        "canny_xs_train = make_canny(blur_xs_train)\n",
        "\n",
        "# printing a sample image for displaying canny images\n",
        "display_image(xs_train, canny_xs_train)\n",
        "\n",
        "print(\"\\nShape of canny train data is: \", canny_xs_train.shape)"
      ]
    },
    {
      "attachments": {},
      "cell_type": "markdown",
      "id": "fFkPVUdLsmYe",
      "metadata": {
        "id": "fFkPVUdLsmYe"
      },
      "source": [
        "##### Identifying contours in a hierarchical manner to understand the order and arrangement of objects in the image"
      ]
    },
    {
      "cell_type": "code",
      "execution_count": 11,
      "id": "dA4F60WstZm7",
      "metadata": {
        "colab": {
          "base_uri": "https://localhost:8080/",
          "height": 168
        },
        "id": "dA4F60WstZm7",
        "outputId": "afd2441d-0046-4fc2-e1d0-ab029f8e73ad"
      },
      "outputs": [
        {
          "name": "stdout",
          "output_type": "stream",
          "text": [
            "Initial Image\n"
          ]
        },
        {
          "data": {
            "image/png": "[encoded data removed]",
            "text/plain": [
              "<PIL.Image.Image image mode=RGB size=32x32 at 0x7F995E1B9F40>"
            ]
          },
          "metadata": {},
          "output_type": "display_data"
        },
        {
          "name": "stdout",
          "output_type": "stream",
          "text": [
            "\n",
            "Transformed Image\n"
          ]
        },
        {
          "data": {
            "image/png": "[encoded data removed]",
            "text/plain": [
              "<PIL.Image.Image image mode=RGB size=32x32 at 0x7F995E1B94F0>"
            ]
          },
          "metadata": {},
          "output_type": "display_data"
        },
        {
          "name": "stdout",
          "output_type": "stream",
          "text": [
            "\n",
            "Shape of contour train data is:  (50000, 32, 32, 3)\n"
          ]
        }
      ],
      "source": [
        "# Getting contours\n",
        "# Some part of code taken from OpenCV docs: https://docs.opencv.org/4.x/df/d0d/tutorial_find_contours.html\n",
        "\n",
        "def make_contours(x):\n",
        "  contour_images = []\n",
        "\n",
        "  for img in x:\n",
        "    contours, hierarchy = cv2.findContours(img, cv2.RETR_TREE, cv2.CHAIN_APPROX_SIMPLE)\n",
        "    drawing = np.zeros((img.shape[0], img.shape[1], 3), dtype=np.uint8)\n",
        "    for i in range(len(contours)):\n",
        "          color = (random.randint(0,256), random.randint(0,256), random.randint(0,256))\n",
        "          cv2.drawContours(drawing, contours, i, color, 2, cv2.LINE_8, hierarchy, 0)\n",
        "    contour_images.append(drawing)\n",
        "\n",
        "  contour_x = np.array(contour_images)\n",
        "\n",
        "  return contour_x\n",
        "\n",
        "contour_xs_train = make_contours(canny_xs_train)\n",
        "\n",
        "# printing a sample image for displaying contour images\n",
        "display_image(xs_train, contour_xs_train)\n",
        "\n",
        "print(\"\\nShape of contour train data is: \", contour_xs_train.shape)"
      ]
    },
    {
      "attachments": {},
      "cell_type": "markdown",
      "id": "1EAdbxxxswjG",
      "metadata": {
        "id": "1EAdbxxxswjG"
      },
      "source": [
        "##### Generating Histogram of Oriented Gradients (HOG) to refine the edge detection process and determine the local, underlying relationships between points in the image"
      ]
    },
    {
      "cell_type": "code",
      "execution_count": 12,
      "id": "3PVWa9vFf7ig",
      "metadata": {
        "colab": {
          "base_uri": "https://localhost:8080/",
          "height": 168
        },
        "id": "3PVWa9vFf7ig",
        "outputId": "05cb5f09-0954-4139-a252-02bf90808c91"
      },
      "outputs": [
        {
          "name": "stdout",
          "output_type": "stream",
          "text": [
            "Initial Image\n"
          ]
        },
        {
          "data": {
            "image/png": "[encoded data removed]",
            "text/plain": [
              "<PIL.Image.Image image mode=RGB size=32x32 at 0x7F998CAF4E20>"
            ]
          },
          "metadata": {},
          "output_type": "display_data"
        },
        {
          "name": "stdout",
          "output_type": "stream",
          "text": [
            "\n",
            "Transformed Image\n"
          ]
        },
        {
          "data": {
            "image/png": "[encoded data removed]",
            "text/plain": [
              "<PIL.Image.Image image mode=L size=32x32 at 0x7F998CAF4E20>"
            ]
          },
          "metadata": {},
          "output_type": "display_data"
        },
        {
          "name": "stdout",
          "output_type": "stream",
          "text": [
            "\n",
            "Shape of HOG train data is:  (50000, 32, 32)\n"
          ]
        }
      ],
      "source": [
        "# Histogram of Oriented Gradients (HOG)\n",
        "\n",
        "def make_hog(x):\n",
        "  hog_images = []\n",
        "\n",
        "  for img in x:\n",
        "    fd, drawing = hog(img, orientations=9, pixels_per_cell=(8, 8), cells_per_block=(2, 2), visualize=True)\n",
        "    hog_images.append(drawing)\n",
        "\n",
        "  hog_x = np.array(hog_images)\n",
        "\n",
        "  return hog_x\n",
        "\n",
        "hog_xs_train = make_hog(gray_xs_train)\n",
        "\n",
        "# printing a sample image for displaying HOG images\n",
        "display_image(xs_train, hog_xs_train)\n",
        "\n",
        "print(\"\\nShape of HOG train data is: \", hog_xs_train.shape)"
      ]
    },
    {
      "attachments": {},
      "cell_type": "markdown",
      "id": "JW6Z9vI7tB7k",
      "metadata": {
        "id": "JW6Z9vI7tB7k"
      },
      "source": [
        "##### Splitting the preprocessed data into train and validation sets using the holdout method"
      ]
    },
    {
      "cell_type": "code",
      "execution_count": 13,
      "id": "wDz1IxCYh8h1",
      "metadata": {
        "colab": {
          "base_uri": "https://localhost:8080/"
        },
        "id": "wDz1IxCYh8h1",
        "outputId": "fec4ff5b-0bd0-43d7-ee03-67586fc526c8"
      },
      "outputs": [
        {
          "name": "stdout",
          "output_type": "stream",
          "text": [
            "x reshaped into:  (50000, 1024)\n",
            "\n",
            "x_train shape:  (33500, 1024)\n",
            "y_train shape:  (33500,)\n",
            "\n",
            "x_val shape:  (16500, 1024)\n",
            "y_val shape:  (16500,)\n"
          ]
        }
      ],
      "source": [
        "# Splitting into train and validation sets\n",
        "\n",
        "x_train, x_val, y_train, y_val = reshape_and_split_data(hog_xs_train, ys_train)"
      ]
    },
    {
      "attachments": {},
      "cell_type": "markdown",
      "id": "CA00GHK5tIA7",
      "metadata": {
        "id": "CA00GHK5tIA7"
      },
      "source": [
        "##### Standardizing the images down to a uniform scale"
      ]
    },
    {
      "cell_type": "code",
      "execution_count": 14,
      "id": "KlD1mMk8SI_Z",
      "metadata": {
        "colab": {
          "base_uri": "https://localhost:8080/"
        },
        "id": "KlD1mMk8SI_Z",
        "outputId": "bc2fde8d-60eb-41fc-aff5-0a306d929382"
      },
      "outputs": [
        {
          "name": "stdout",
          "output_type": "stream",
          "text": [
            "After standardization, shapes are:\n",
            "x_train:  (33500, 1024)\n",
            "x_val:  (16500, 1024)\n"
          ]
        }
      ],
      "source": [
        "# Standardization for uniformly scaling all the data\n",
        "\n",
        "sc = StandardScaler()\n",
        "sc.fit(x_train)\n",
        "x_train_std = sc.transform(x_train)\n",
        "x_val_std = sc.transform(x_val)\n",
        "print(\"After standardization, shapes are:\")\n",
        "print(\"x_train: \", x_train_std.shape)\n",
        "print(\"x_val: \", x_val_std.shape)"
      ]
    },
    {
      "attachments": {},
      "cell_type": "markdown",
      "id": "TW49mg3ptNSA",
      "metadata": {
        "id": "TW49mg3ptNSA"
      },
      "source": [
        "##### Getting rid of unnecessary features to focus only on the significant ones and reduce computational complexity using Principle Component Analysis (PCA)"
      ]
    },
    {
      "cell_type": "code",
      "execution_count": 57,
      "id": "GIABuCLbSLI3",
      "metadata": {
        "colab": {
          "base_uri": "https://localhost:8080/"
        },
        "id": "GIABuCLbSLI3",
        "outputId": "5150b2b8-b662-469d-bea5-512f8f194405"
      },
      "outputs": [
        {
          "name": "stdout",
          "output_type": "stream",
          "text": [
            "After PCA, shapes are:\n",
            "x_train:  (33500, 69)\n",
            "x_val:  (16500, 69)\n"
          ]
        }
      ],
      "source": [
        "# PCA for getting only highly meaningful features with 0.90 ratio of variance \n",
        "\n",
        "pca = PCA(n_components=0.90)\n",
        "pca.fit(x_train_std)\n",
        "x_train_pca = pca.fit_transform(x_train_std)\n",
        "x_val_pca = pca.transform(x_val_std)\n",
        "print(\"After PCA, shapes are:\")\n",
        "print(\"x_train: \", x_train_pca.shape)\n",
        "print(\"x_val: \", x_val_pca.shape)"
      ]
    },
    {
      "attachments": {},
      "cell_type": "markdown",
      "id": "e1d0fe4f",
      "metadata": {
        "id": "e1d0fe4f"
      },
      "source": [
        "### Section 2.2. Controlled experiment II.\n",
        "\n",
        "#### Trying a simple KNN with minkowski as the metric for distance and 5 neighbors"
      ]
    },
    {
      "cell_type": "code",
      "execution_count": 61,
      "id": "583c4fc4",
      "metadata": {
        "colab": {
          "base_uri": "https://localhost:8080/"
        },
        "id": "583c4fc4",
        "outputId": "5b047ac6-dcf5-45fc-a9c4-93beed2a6494"
      },
      "outputs": [
        {
          "name": "stdout",
          "output_type": "stream",
          "text": [
            "KNN training accuracy:  0.6382686567164179\n",
            "KNN validation accuracy:  0.4713333333333333\n"
          ]
        }
      ],
      "source": [
        "# K Nearest Neighbours\n",
        "\n",
        "from sklearn.neighbors import KNeighborsClassifier as KNN\n",
        "\n",
        "knn = KNN(n_neighbors=5, p=2, metric=\"minkowski\")\n",
        "knn.fit(x_train_pca, y_train)\n",
        "knn_pred_train = knn.predict(x_train_pca)\n",
        "knn_train_acc = accuracy_score(y_true=y_train, y_pred=knn_pred_train)\n",
        "print(\"KNN training accuracy: \", knn_train_acc)\n",
        "\n",
        "knn_pred_val = knn.predict(x_val_pca)\n",
        "knn_val_acc = accuracy_score(y_true=y_val, y_pred=knn_pred_val)\n",
        "print(\"KNN validation accuracy: \", knn_val_acc)"
      ]
    },
    {
      "attachments": {},
      "cell_type": "markdown",
      "id": "1b4cf483",
      "metadata": {
        "id": "1b4cf483"
      },
      "source": [
        "### Section 2.3. Controlled experiment III.\n",
        "\n",
        "#### Trying out an MLP with 5 hidden layers, each with 200 nodes. The activation function used is ReLU with Adam optimizer."
      ]
    },
    {
      "cell_type": "code",
      "execution_count": 19,
      "id": "4I3pfTleh2NV",
      "metadata": {
        "colab": {
          "base_uri": "https://localhost:8080/"
        },
        "id": "4I3pfTleh2NV",
        "outputId": "ec81698a-d0d0-4cf3-8e6a-60e1ceb847d8"
      },
      "outputs": [
        {
          "name": "stdout",
          "output_type": "stream",
          "text": [
            "MLP training accuracy:  0.9860298507462687\n",
            "MLP validation accuracy:  0.546\n"
          ]
        }
      ],
      "source": [
        "# MLP\n",
        "\n",
        "mlp = MLPClassifier(hidden_layer_sizes=(200, 200, 200, 200, 200), activation=\"relu\", solver=\"adam\", learning_rate_init=0.001)\n",
        "mlp.fit(x_train_std, y_train)\n",
        "mlp_pred_train = mlp.predict(x_train_std)\n",
        "mlp_train_acc = accuracy_score(y_true=y_train, y_pred=mlp_pred_train)\n",
        "print(\"MLP training accuracy: \", mlp_train_acc)\n",
        "\n",
        "mlp_pred_val = mlp.predict(x_val_std)\n",
        "mlp_val_acc = accuracy_score(y_true=y_val, y_pred=mlp_pred_val)\n",
        "print(\"MLP validation accuracy: \", mlp_val_acc)"
      ]
    },
    {
      "attachments": {},
      "cell_type": "markdown",
      "id": "952de7c6",
      "metadata": {
        "id": "952de7c6"
      },
      "source": [
        "## Section 3. Final Model\n",
        "\n",
        "Building the final image classification model. This model will be used to predict the official test set."
      ]
    },
    {
      "attachments": {},
      "cell_type": "markdown",
      "id": "NhiaTcL8uYut",
      "metadata": {
        "id": "NhiaTcL8uYut"
      },
      "source": [
        "##### Helper Function for final pipeline"
      ]
    },
    {
      "cell_type": "code",
      "execution_count": 15,
      "id": "5qn4KeN1j2EZ",
      "metadata": {
        "id": "5qn4KeN1j2EZ"
      },
      "outputs": [],
      "source": [
        "def final_preprocessing_pipeline(x):\n",
        "  grays = make_gray(x)\n",
        "  hogs = make_hog(grays)\n",
        "\n",
        "  # Reshaping\n",
        "  dim1 = hogs.shape[0]\n",
        "  dim2 = 1\n",
        "  for i in range(1, len(hogs.shape)):\n",
        "    dim2 *= hogs.shape[i]\n",
        "\n",
        "  reshaped_x = hogs.reshape((dim1, dim2))\n",
        "\n",
        "  return reshaped_x"
      ]
    },
    {
      "attachments": {},
      "cell_type": "markdown",
      "id": "XiYkTMwRub4c",
      "metadata": {
        "id": "XiYkTMwRub4c"
      },
      "source": [
        "##### Preparing training data"
      ]
    },
    {
      "cell_type": "code",
      "execution_count": 16,
      "id": "1zpMlYVfZPfs",
      "metadata": {
        "colab": {
          "base_uri": "https://localhost:8080/"
        },
        "id": "1zpMlYVfZPfs",
        "outputId": "9bd03eb5-d21c-41f6-839c-e27a4392e259"
      },
      "outputs": [
        {
          "name": "stdout",
          "output_type": "stream",
          "text": [
            "The final training dataset's shape is: \n",
            "\n",
            "(50000, 1024)\n",
            "\n",
            "The final training dataset is: \n",
            "\n"
          ]
        },
        {
          "data": {
            "text/plain": [
              "array([[0., 0., 0., ..., 0., 0., 0.],\n",
              "       [0., 0., 0., ..., 0., 0., 0.],\n",
              "       [0., 0., 0., ..., 0., 0., 0.],\n",
              "       ...,\n",
              "       [0., 0., 0., ..., 0., 0., 0.],\n",
              "       [0., 0., 0., ..., 0., 0., 0.],\n",
              "       [0., 0., 0., ..., 0., 0., 0.]])"
            ]
          },
          "execution_count": 16,
          "metadata": {},
          "output_type": "execute_result"
        }
      ],
      "source": [
        "# Preparing the entire training dataset\n",
        "\n",
        "# Doing feature extraction and engineering\n",
        "engineered_xs_train = final_preprocessing_pipeline(xs_train)\n",
        "\n",
        "# Standardizing it\n",
        "sc = StandardScaler()\n",
        "xs_train_final = sc.fit_transform(engineered_xs_train)\n",
        "\n",
        "print(\"The final training dataset's shape is: \\n\")\n",
        "print(xs_train_final.shape)\n",
        "\n",
        "print(\"\\nThe final training dataset is: \\n\")\n",
        "xs_train_final"
      ]
    },
    {
      "attachments": {},
      "cell_type": "markdown",
      "id": "dDl2r46QueAX",
      "metadata": {
        "id": "dDl2r46QueAX"
      },
      "source": [
        "##### Preparing testing data"
      ]
    },
    {
      "cell_type": "code",
      "execution_count": 17,
      "id": "f-syaxXnZSRr",
      "metadata": {
        "colab": {
          "base_uri": "https://localhost:8080/"
        },
        "id": "f-syaxXnZSRr",
        "outputId": "95936ea4-27b7-45fc-c02b-50ef75bd64b8"
      },
      "outputs": [
        {
          "name": "stdout",
          "output_type": "stream",
          "text": [
            "The final testing dataset's shape is: \n",
            "\n",
            "(10000, 1024)\n",
            "The final testing dataset is: \n",
            "\n"
          ]
        },
        {
          "data": {
            "text/plain": [
              "array([[0., 0., 0., ..., 0., 0., 0.],\n",
              "       [0., 0., 0., ..., 0., 0., 0.],\n",
              "       [0., 0., 0., ..., 0., 0., 0.],\n",
              "       ...,\n",
              "       [0., 0., 0., ..., 0., 0., 0.],\n",
              "       [0., 0., 0., ..., 0., 0., 0.],\n",
              "       [0., 0., 0., ..., 0., 0., 0.]])"
            ]
          },
          "execution_count": 17,
          "metadata": {},
          "output_type": "execute_result"
        }
      ],
      "source": [
        "# Preparing testing data\n",
        "\n",
        "# Doing feature extraction and engineering\n",
        "engineered_xs_test = final_preprocessing_pipeline(xs_test)\n",
        "\n",
        "# Standardizing it\n",
        "xs_test_final = sc.transform(engineered_xs_test)\n",
        "\n",
        "print(\"The final testing dataset's shape is: \\n\")\n",
        "print(xs_test_final.shape)\n",
        "\n",
        "print(\"The final testing dataset is: \\n\")\n",
        "xs_test_final"
      ]
    },
    {
      "attachments": {},
      "cell_type": "markdown",
      "id": "Qi2Dq23buf4K",
      "metadata": {
        "id": "Qi2Dq23buf4K"
      },
      "source": [
        "##### Running the final model"
      ]
    },
    {
      "cell_type": "code",
      "execution_count": 20,
      "id": "f443f932",
      "metadata": {
        "colab": {
          "base_uri": "https://localhost:8080/"
        },
        "id": "f443f932",
        "outputId": "463e9316-8198-44e9-b489-dc96575bb474"
      },
      "outputs": [
        {
          "name": "stdout",
          "output_type": "stream",
          "text": [
            "The predicted results are: \n",
            "\n"
          ]
        },
        {
          "data": {
            "text/plain": [
              "array([1, 4, 7, ..., 6, 3, 1])"
            ]
          },
          "execution_count": 20,
          "metadata": {},
          "output_type": "execute_result"
        }
      ],
      "source": [
        "# Running the final model with all requisites met\n",
        "\n",
        "model = mlp\n",
        "model.fit(xs_train_final, ys_train)\n",
        "ys_test_pred = model.predict(xs_test_final)\n",
        "print(\"The predicted results are: \\n\")\n",
        "ys_test_pred"
      ]
    },
    {
      "attachments": {},
      "cell_type": "markdown",
      "id": "f3eebb86",
      "metadata": {
        "id": "f3eebb86"
      },
      "source": [
        "## Section 4. Report the result"
      ]
    },
    {
      "attachments": {},
      "cell_type": "markdown",
      "id": "c1f12790",
      "metadata": {
        "id": "c1f12790"
      },
      "source": [
        "### 4.3 Getting predictions on the test set"
      ]
    },
    {
      "cell_type": "code",
      "execution_count": 21,
      "id": "fc24b57f",
      "metadata": {
        "id": "fc24b57f"
      },
      "outputs": [],
      "source": [
        "def save_submission_results(ys_test_pred, uid=\"UID\"):\n",
        "    \"\"\"    \n",
        "    Args:\n",
        "        ys_test_pred: numpy array of shape (num_tests, )\n",
        "        uid: student's UID. \n",
        "    \"\"\"\n",
        "    num_tests = 10000\n",
        "    assert isinstance(ys_test_pred, np.ndarray)\n",
        "    assert ys_test_pred.shape == (num_tests, )\n",
        "    \n",
        "    out_path = f\"pred_{uid}.txt\"\n",
        "    with open(out_path, \"w\") as f:\n",
        "        for idx, y_pred in enumerate(ys_test_pred):\n",
        "            im_name = f\"test_{idx:05d}.jpg\"\n",
        "            f.write(f\"{im_name} {y_pred}\\n\")\n",
        "    \n",
        "    print(f\"Result written to {out_path}\")"
      ]
    },
    {
      "cell_type": "code",
      "execution_count": 22,
      "id": "38e98dfb",
      "metadata": {
        "colab": {
          "base_uri": "https://localhost:8080/"
        },
        "id": "38e98dfb",
        "outputId": "0717ad48-4347-403f-d2a2-636b321544bb"
      },
      "outputs": [
        {
          "name": "stdout",
          "output_type": "stream",
          "text": [
            "Result written to pred_3035832751.txt\n"
          ]
        }
      ],
      "source": [
        "save_submission_results(ys_test_pred, uid=\"3035832751\")"
      ]
    }
  ],
  "metadata": {
    "colab": {
      "provenance": []
    },
    "kernelspec": {
      "display_name": "Python 3.6.13 ('py36')",
      "language": "python",
      "name": "python3"
    },
    "language_info": {
      "codemirror_mode": {
        "name": "ipython",
        "version": 3
      },
      "file_extension": ".py",
      "mimetype": "text/x-python",
      "name": "python",
      "nbconvert_exporter": "python",
      "pygments_lexer": "ipython3",
      "version": "3.6.13"
    },
    "vscode": {
      "interpreter": {
        "hash": "d17123b7a852ae6f995cf965aca53bbdb6bda840a01f47f622e12eaae1166d96"
      }
    }
  },
  "nbformat": 4,
  "nbformat_minor": 5
}
